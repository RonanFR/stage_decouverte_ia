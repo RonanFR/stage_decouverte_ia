{
 "cells": [
  {
   "cell_type": "markdown",
   "id": "9489a5e2-c7af-403f-92a8-1a259a71ff66",
   "metadata": {},
   "source": [
    "# Génération de musique par Intelligence Artificielle pour la pratique sportive \r\n",
    "\r\n",
    "## Partie 1: Evaluation *\"zero-shot\"* d'un algorithme existant \r\n",
    "(également appelé *\"modèle de fondation pré-entraîné\"*)"
   ]
  },
  {
   "cell_type": "markdown",
   "id": "8f512486-75df-44ae-b03a-f7f4550aafa0",
   "metadata": {},
   "source": [
    "\n",
    "### Présentation de MusicGen et ressources computationnelles disponibles\r\n",
    "\r\n",
    "[MusicGen](https://audiocraft.metademolab.com/musicgen.html) est un algorithme (aussi appelé *\"modèle d'IA\"*) *texte -> musique* développé par l'entreprise Meta (Facebook, Instagram, etc...) et sorti en mai 2023.\r\n",
    "\r\n",
    "Nous allons ici télécharger le modèle directement sur l'ordinateur (*\"serveur\"*) sur lequel se trouve le présent notebook. Nous pourrons ainsi mieux comprendre les ressources computationnelles qu'il requiert.\r\n",
    "\r\n",
    "Pour des raison de performance, nous utiliserons une carte graphique encore appelée [processeur graphique (GPU)](https://fr.wikipedia.org/wiki/Processeur_graphique). Plus précisément, nous utiliserons un [GPU NVIDIA L4](https://www.nvidia.com/fr-fr/data-center/l4/).\r\n",
    "\r\n",
    "La cellule suivante contient une commande permettant de se rendre compte des ressources disponibles sur le GPU (mémoire, etc...) et de son taux d'utilisation."
   ]
  },
  {
   "cell_type": "code",
   "execution_count": null,
   "id": "70d8adbc-6811-49bb-a0d3-4a2da50a0dbe",
   "metadata": {
    "scrolled": true
   },
   "outputs": [],
   "source": [
    "%%sh\n",
    "nvidia-smi"
   ]
  },
  {
   "cell_type": "markdown",
   "id": "388d7dd9-17dd-451a-892b-64a9661df010",
   "metadata": {},
   "source": [
    "La cellule ci-dessous contient une commande permettant de visualiser les ressources disponible sur le processeur principal (hors GPU), également appelé [CPU](https://fr.wikipedia.org/wiki/Processeur)."
   ]
  },
  {
   "cell_type": "code",
   "execution_count": null,
   "id": "206d48a7-4c4f-4678-9e92-4536f7c96c86",
   "metadata": {},
   "outputs": [],
   "source": [
    "%%sh\n",
    "htop"
   ]
  },
  {
   "cell_type": "markdown",
   "id": "8051eff7-ab7a-46ba-8ba1-c23746bd2318",
   "metadata": {},
   "source": [
    "**Tâche 1:** Comparez les ressources du présent serveur aux ressources disponibles sur votre ordinateur. Pour se faire, ouvrez le gestionnaire de tâche:\r\n",
    "- Sur Windows: [CTRL] + [ALT] + [Suppr]\r\n",
    "- Sur MacOS: [CMD] + [ALT] + [Échap]"
   ]
  },
  {
   "cell_type": "markdown",
   "id": "94283c25-69b0-4c13-b024-29741b7d9f7b",
   "metadata": {},
   "source": [
    "### Téléchargement du modèle *MusicGen* et évaluation des ressources utilisées\n",
    "\n",
    "Les 2 cellules ci-dessous chargent quelques modules utilitaires que nous ne détaillerons pas ici."
   ]
  },
  {
   "cell_type": "code",
   "execution_count": null,
   "id": "9c59c1d5-4305-49db-94a1-6a310f170f64",
   "metadata": {
    "scrolled": true
   },
   "outputs": [],
   "source": [
    "%run utilitaires.ipynb"
   ]
  },
  {
   "cell_type": "code",
   "execution_count": null,
   "id": "96fea31d-a35d-4434-aa18-582c9dadef40",
   "metadata": {},
   "outputs": [],
   "source": [
    "%load_ext autoreload\n",
    "%autoreload 2"
   ]
  },
  {
   "cell_type": "markdown",
   "id": "e4018ff4-33c3-4044-95b9-7d375cae0180",
   "metadata": {},
   "source": [
    "Dans la cellule ci-dessous, nous téléchargeons puis chargeons en mémoire l'algorithme MusicGen. Cet algorithme est composé de 2 parties: le `processor` qui transforme la donnée d'entrée (texte notamment) en un format expoitable, et le `model` qui génère la musique à proprement parlé."
   ]
  },
  {
   "cell_type": "code",
   "execution_count": null,
   "id": "83bbd7a6-93e1-404d-8cbf-010a420ad017",
   "metadata": {
    "scrolled": true
   },
   "outputs": [],
   "source": [
    "processor = AutoProcessor.from_pretrained(\n",
    "    \"facebook/musicgen-medium\", \n",
    "    cache_dir=\"./models\"\n",
    ")\n",
    "\n",
    "model = AutoModelForTextToWaveform.from_pretrained(\n",
    "    \"facebook/musicgen-medium\", \n",
    "    cache_dir=\"./models\"\n",
    ")\n",
    "model.freeze_text_encoder()\n",
    "model.freeze_audio_encoder()\n",
    "\n",
    "torch.cuda.empty_cache()\n",
    "\n",
    "print(model)\n",
    "print(processor)"
   ]
  },
  {
   "cell_type": "markdown",
   "id": "d40088db-a6d7-4be2-8031-792d58a7d9ec",
   "metadata": {},
   "source": [
    "Pour le moment, le `model` est chargé sur le CPU et non le GPU. On peut s'en convaincre en exécutant les cellules ci-dessous:"
   ]
  },
  {
   "cell_type": "code",
   "execution_count": null,
   "id": "d742871f-3c72-42c4-bc91-ab232a62bc5e",
   "metadata": {},
   "outputs": [],
   "source": [
    "print(model.device)"
   ]
  },
  {
   "cell_type": "code",
   "execution_count": null,
   "id": "779b552b-caa9-437b-8110-665c5e2c3de6",
   "metadata": {
    "scrolled": true
   },
   "outputs": [],
   "source": [
    "%%sh\n",
    "nvidia-smi"
   ]
  },
  {
   "cell_type": "markdown",
   "id": "a0b0383f-c269-4f66-87d8-b7fd1fee3388",
   "metadata": {},
   "source": [
    "On peut désormais \"transférer\" notre modèle IA du CPU vers le GPU:"
   ]
  },
  {
   "cell_type": "code",
   "execution_count": null,
   "id": "aa3e2517-d9c1-4d71-a987-de4a6715b2c5",
   "metadata": {},
   "outputs": [],
   "source": [
    "model.to(\"cuda\")\n",
    "print(model.device)"
   ]
  },
  {
   "cell_type": "code",
   "execution_count": null,
   "id": "6201e54b-9cf5-4cb8-8d0a-e529ca6db594",
   "metadata": {},
   "outputs": [],
   "source": [
    "%%sh\n",
    "nvidia-smi"
   ]
  },
  {
   "cell_type": "markdown",
   "id": "93e95543-9850-48fb-b428-9525fbe8f346",
   "metadata": {},
   "source": [
    "Sur CPU, le temps de calcul pour une même génération de musique est plus long que sur GPU:"
   ]
  },
  {
   "cell_type": "code",
   "execution_count": null,
   "id": "7539ac0e-3595-492d-b039-160ac58c976a",
   "metadata": {},
   "outputs": [],
   "source": [
    "# Exécution sur CPU\n",
    "# ---------------------------\n",
    "model.to(\"cpu\")\n",
    "start = time.time()\n",
    "text_to_music(\n",
    "    processor,\n",
    "    model,\n",
    "    prompts=[\n",
    "        \"baroque music from the 17th century\"\n",
    "    ],\n",
    "    max_new_tokens=128,\n",
    "    sampling_rate=32000,\n",
    "    do_sample=True,\n",
    "    guidance_scale=10\n",
    ")\n",
    "end = time.time()\n",
    "print(\"Temps requis pour générer une musique sur CPU (en secondes): \", round(end - start, 3))\n",
    "\n",
    "# Exécution sur GPU\n",
    "# ---------------------------\n",
    "model.to(\"cuda\")\n",
    "start = time.time()\n",
    "text_to_music(\n",
    "    processor,\n",
    "    model,\n",
    "    prompts=[\n",
    "        \"baroque music from the 17th century\"\n",
    "    ],\n",
    "    max_new_tokens=128,\n",
    "    sampling_rate=32000,\n",
    "    do_sample=True,\n",
    "    guidance_scale=10\n",
    ")\n",
    "end = time.time()\n",
    "print(\"Temps requis pour générer une musique sur GPU (en secondes): \", round(end - start, 3))"
   ]
  },
  {
   "cell_type": "markdown",
   "id": "b610f6da-78e5-4975-9210-b611dbb0ffc6",
   "metadata": {},
   "source": [
    "### Zero-shot learning & prompt engineering avec MusicGen\n",
    "\n",
    "Nous allons à présent tester les capacités de MusicGen en mode \"zero-shot\" c'est-à-dire sans aucun apprentissage supplémentaire.\n",
    "\n",
    "MusicGen a été entraîné sur des textes en langue anglaise, il faut donc lui parler Anglais!"
   ]
  },
  {
   "cell_type": "code",
   "execution_count": null,
   "id": "f235684c-97ff-44c2-85be-0bc6b97df4ed",
   "metadata": {},
   "outputs": [],
   "source": [
    "torch.cuda.empty_cache()\n",
    "\n",
    "text_to_music(\n",
    "    processor,\n",
    "    model,\n",
    "    prompts=[\n",
    "        \"relaxing latino music\",\n",
    "        \"baroque music from the 17th century\"\n",
    "    ],\n",
    "    max_new_tokens=256,\n",
    "    sampling_rate=32000,\n",
    "    do_sample=True,\n",
    "    guidance_scale=10\n",
    ")"
   ]
  },
  {
   "cell_type": "markdown",
   "id": "7a679562-15b9-4c23-969d-daeb10c58b8f",
   "metadata": {},
   "source": [
    "**Tâche 2:** Essayez de générer différentes musiques en faisant varier le `prompt`, le `sampling_rate`, la `guidance_scale` et le paramètre `do_sample`. \n",
    "Qu'observez-vous ?"
   ]
  },
  {
   "cell_type": "markdown",
   "id": "a3dbbadc-ad4a-4905-b039-5f43e244ca9b",
   "metadata": {},
   "source": [
    "La musique générée dépend beaucoup du *\"prompt\"*. Le [*\"prompt engineering\"*](https://fr.wikipedia.org/wiki/Ing%C3%A9nierie_de_prompt) consiste à élaborer le prompt le plus \"pertinent\" en vue de ce que l'on souhaite générer. C'est un processus très empirique et les techniques varient selon le modèle d'IA utilisé car chaque modèle n'a pas appris de la même manière ni sur les mêmes données.\n",
    "\n",
    "Une fois que l'on a trouvé une bonne structure de prompt, on peut automatiser la génération de prompt comme dans la cellule ci-dessous:"
   ]
  },
  {
   "cell_type": "code",
   "execution_count": null,
   "id": "77966888-ec0a-4f27-9bf7-ad889129abc9",
   "metadata": {},
   "outputs": [],
   "source": [
    "print(prompt_engineering(sport_session_name=\"yoga\", music_style=\"latino\"))\n",
    "print(prompt_engineering(sport_session_name=\"running\", music_style=\"latino\"))\n",
    "print(prompt_engineering(sport_session_name=\"weight training\", music_style=\"latino\"))"
   ]
  },
  {
   "cell_type": "code",
   "execution_count": null,
   "id": "d011a8c0-06a5-461d-8f97-24719880f835",
   "metadata": {},
   "outputs": [],
   "source": [
    "torch.cuda.empty_cache()\n",
    "\n",
    "text_to_music(\n",
    "    processor,\n",
    "    model,\n",
    "    prompts=[\n",
    "        prompt_engineering(sport_session_name=sport_session, music_style=\"latino\")\n",
    "        for sport_session in [\"yoga\", \"running\", \"weight training\"]\n",
    "    ],\n",
    "    max_new_tokens=256,\n",
    "    sampling_rate=32000,\n",
    "    do_sample=True,\n",
    "    guidance_scale=10\n",
    ")"
   ]
  },
  {
   "cell_type": "markdown",
   "id": "e02fbac9-ba5d-45ce-a693-1627a3c1cc7d",
   "metadata": {},
   "source": [
    "### Préparation de la prochaine séance\n",
    "\n",
    "**Tâche 3:** Avec votre groupe, trouvez une musique (sans parole) associée à chacune des séance de sport suivante:\r\n",
    "- yoga\r\n",
    "- cardio training\r\n",
    "- RPM/biking\r\n",
    "- weight training (musculation)\r\n",
    "- running (course à pied)\r\n",
    "\r\n",
    "Les musiques doivent être au format `.mp3` et d'une durée de maximum 3min.\r\n",
    "Le **groupe 1** aura pour thème la **musique classique**, et le **groupe 2 la musique electro**.\r\n",
    "\r\n",
    "Vous trouverez dans la cellule ci-dessous des exemples de musiques associées au séances ci-dessus sur le thème **\"musique: latine\"**"
   ]
  },
  {
   "cell_type": "code",
   "execution_count": null,
   "id": "43eab2e7-d827-4b2c-89d0-ce6a06b67ecb",
   "metadata": {},
   "outputs": [],
   "source": [
    "path_to_data = \"./data/music/raw/latino\"\n",
    "music_files = [os.sep.join([path_to_data, f]) for f in os.listdir(path_to_data) if f[-4:] == \".mp3\"]\n",
    "\n",
    "for f in music_files:\n",
    "    print(\" \".join(f[:-4].split(os.sep)[-1].split(\"_\") + [\":\"]))\n",
    "    display(Audio(f, rate=44100))"
   ]
  },
  {
   "cell_type": "code",
   "execution_count": null,
   "id": "03e9f1d5-2c1a-4d8b-8dff-88160224d7d0",
   "metadata": {},
   "outputs": [],
   "source": []
  }
 ],
 "metadata": {
  "kernelspec": {
   "display_name": "Python 3 (ipykernel)",
   "language": "python",
   "name": "python3"
  },
  "language_info": {
   "codemirror_mode": {
    "name": "ipython",
    "version": 3
   },
   "file_extension": ".py",
   "mimetype": "text/x-python",
   "name": "python",
   "nbconvert_exporter": "python",
   "pygments_lexer": "ipython3",
   "version": "3.9.18"
  }
 },
 "nbformat": 4,
 "nbformat_minor": 5
}
