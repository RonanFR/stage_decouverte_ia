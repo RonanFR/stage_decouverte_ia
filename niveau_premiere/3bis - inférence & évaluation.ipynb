{
 "cells": [
  {
   "cell_type": "markdown",
   "id": "3fcc091e-8b41-46a9-a9e2-3b5307b44bb6",
   "metadata": {},
   "source": [
    "# Génération de musique par Intelligence Artificielle pour la pratique sportive \n",
    "\n",
    "## Partie 3 (suite): Evaluation du nouveau modèle (comparaison avec le modèle d'origine)\n",
    "\n",
    "Nous allons à présent comparer les musiques générées par le modèle \"affiné (*\"fine-tuned\"*) et le modèle d'origine.\n",
    "\n",
    "Les 2 cellules ci-dessous chargent quelques modules utilitaires que nous ne détaillerons pas ici."
   ]
  },
  {
   "cell_type": "code",
   "execution_count": null,
   "id": "01751dde-3b7d-4b55-8c5a-e23dd18ee849",
   "metadata": {
    "scrolled": true
   },
   "outputs": [],
   "source": [
    "%run utilitaires.ipynb"
   ]
  },
  {
   "cell_type": "code",
   "execution_count": null,
   "id": "384f3c00-463f-4e79-87b0-16d2f8cd0c11",
   "metadata": {},
   "outputs": [],
   "source": [
    "%load_ext autoreload\n",
    "%autoreload 2"
   ]
  },
  {
   "cell_type": "markdown",
   "id": "9763737d-3dfb-40ce-b094-db3535d0660e",
   "metadata": {},
   "source": [
    "Dans la cellule ci-dessous, nous chargeons le `processor` ainsi que les 2 modèles: `original_model` (le MusicGen d'origine) et `fine_tuned_model` (le modèle que nous avons affiné/ajusté)."
   ]
  },
  {
   "cell_type": "code",
   "execution_count": null,
   "id": "30550df4-4bc4-4e81-b501-9c872cad9279",
   "metadata": {
    "scrolled": true
   },
   "outputs": [],
   "source": [
    "# os.environ['HF_HOME'] = \"./models/\"\n",
    "processor = AutoProcessor.from_pretrained(\n",
    "    \"facebook/musicgen-medium\",\n",
    "    cache_dir=\"./models\"\n",
    ")\n",
    "\n",
    "original_model = AutoModelForTextToWaveform.from_pretrained(\n",
    "    \"facebook/musicgen-medium\", \n",
    "    cache_dir=\"./models\"\n",
    ")\n",
    "original_model.freeze_text_encoder()\n",
    "original_model.freeze_audio_encoder()\n",
    "original_model.to(\"cuda\")\n",
    "\n",
    "fine_tuned_model = AutoModelForTextToWaveform.from_pretrained(\n",
    "    \"./models/fine_tuned_musigen_all\", \n",
    "    cache_dir=\"./models/\"\n",
    ")\n",
    "fine_tuned_model.freeze_text_encoder()\n",
    "fine_tuned_model.freeze_audio_encoder()\n",
    "fine_tuned_model.to(\"cuda\")"
   ]
  },
  {
   "cell_type": "markdown",
   "id": "04bfa2d1-dfa1-42fd-85c0-c1f40817f283",
   "metadata": {},
   "source": [
    "Dans la cellule suivante, nous générons les musiques avec le modèle d'origine."
   ]
  },
  {
   "cell_type": "code",
   "execution_count": null,
   "id": "8ed59cd4-cdd2-4a7a-9f69-b5f64c33a7d1",
   "metadata": {
    "scrolled": true
   },
   "outputs": [],
   "source": [
    "torch.cuda.empty_cache()\n",
    "text_to_music(\n",
    "    processor,\n",
    "    original_model,\n",
    "    prompts=[\n",
    "        prompt_engineering(\"cardio training\", \"latino\"),\n",
    "        prompt_engineering(\"yoga\", \"latino\"),\n",
    "        prompt_engineering(\"bike\", \"latino\"),\n",
    "    ],\n",
    "    max_new_tokens=256,\n",
    "    sampling_rate=32000,\n",
    "    do_sample=False,\n",
    "    guidance_scale=10,\n",
    ")"
   ]
  },
  {
   "cell_type": "markdown",
   "id": "ca1b38fc-d7e5-4cb4-927e-eb82be2f4492",
   "metadata": {},
   "source": [
    "Nous générons à présent les musiques avec le modèle affiné/ajusté (*\"fine-uned\"*). Qu'en pensez-vous ?"
   ]
  },
  {
   "cell_type": "code",
   "execution_count": null,
   "id": "9143586d-2e0c-450f-9bb7-735cd21db306",
   "metadata": {},
   "outputs": [],
   "source": [
    "torch.cuda.empty_cache()\n",
    "text_to_music(\n",
    "    processor,\n",
    "    fine_tuned_model,\n",
    "    prompts=[\n",
    "        prompt_engineering(\"cardio training\", \"latino\"),\n",
    "        prompt_engineering(\"yoga\", \"latino\"),\n",
    "        prompt_engineering(\"bike\", \"latino\"),\n",
    "    ],\n",
    "    max_new_tokens=256,\n",
    "    sampling_rate=32000,\n",
    "    do_sample=False,\n",
    "    guidance_scale=10,\n",
    ")"
   ]
  },
  {
   "cell_type": "markdown",
   "id": "d05e8a1a-ae5d-4605-8ee0-d517650bd0f6",
   "metadata": {},
   "source": [
    "Le résultat final dépend beaucoup des conditions d'entraînements/affinage: données, hyperparamètres (taux d'apprentissage ou *\"learning rate\"*, nombre d'itération ou *\"epochs\"* etc...), etc...\n",
    "\n",
    "Le résultat final peut varier d'une exécution à l'autre (aléas)."
   ]
  },
  {
   "cell_type": "markdown",
   "id": "17ff60af-2e8c-4c0c-ad87-77999747a457",
   "metadata": {},
   "source": [
    "Durant ces travaux pratiques, nous avons spécifier explicitement le style musical \"latino\" dans le prompt. En réalité la plupart des utilisateurs aiment différents styles musicaux. On pourrait imaginer mettre dans le prompre le nom de l'utilisateur (et non le style de musique) et laisser l'algorithme apprendre ce qu'aime cet utilisateur précis.\n",
    "\n",
    "Beaucoup d'approches différentes sont envisageables, mais vous avez désormais un petit aperçu de ce qu'il est possible de faire."
   ]
  },
  {
   "cell_type": "code",
   "execution_count": null,
   "id": "66e1051b-ce84-4340-8224-8c29965a841f",
   "metadata": {},
   "outputs": [],
   "source": []
  }
 ],
 "metadata": {
  "kernelspec": {
   "display_name": "Python 3 (ipykernel)",
   "language": "python",
   "name": "python3"
  },
  "language_info": {
   "codemirror_mode": {
    "name": "ipython",
    "version": 3
   },
   "file_extension": ".py",
   "mimetype": "text/x-python",
   "name": "python",
   "nbconvert_exporter": "python",
   "pygments_lexer": "ipython3",
   "version": "3.9.18"
  }
 },
 "nbformat": 4,
 "nbformat_minor": 5
}
