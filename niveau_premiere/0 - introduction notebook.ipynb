{
 "cells": [
  {
   "cell_type": "markdown",
   "id": "1f31a6eb-61e6-4790-86a6-2eb7f4aa3a5d",
   "metadata": {},
   "source": [
    "# Introduction au concept de notebook"
   ]
  },
  {
   "cell_type": "markdown",
   "id": "8d8729cb-b2fc-464d-9c55-29157b5e0db4",
   "metadata": {},
   "source": [
    "Bienvenue dans un **\"[notebook](https://fr.wikipedia.org/wiki/Notebook_(programmation)\"**!\n",
    "\n",
    "En programmation informatique, un *notebook*, est une *interface de programmation intéractive* permettant de combiner du *texte* et divers autres *contenus multimédia* (images, audio, etc...) avec du *code informatique* exécutable.\n",
    "\n",
    "![image](data/images/fruits.jpg)\n",
    "\n",
    "Un notebook se compose d'une suite de *cellules* contenant du texte (des hyperliens, des images, des sons, etc...) ou du code informatique."
   ]
  },
  {
   "cell_type": "markdown",
   "id": "f11a291a-d432-46f7-9a71-64d602e541fd",
   "metadata": {},
   "source": [
    "\n",
    "Les cellules textuelles permettent de fournir des illustrations et/ou explications, par exemple de concepts théoriques, et inclure des équations mathématiques comme celle-ci:\r\n",
    "\r\n",
    "$$f(x) = a\\cdot x + b$$\r\n",
    "\r\n",
    "ou encore:\r\n",
    "\r\n",
    "$$ (a+b)(a-b) = a^2 - b^2$$\r\n",
    "\r\n",
    "Des cellules explicatives comme celle-ci peuvent être suivies de cellules contenant du code informatique comme celle ci-dessous:"
   ]
  },
  {
   "cell_type": "code",
   "execution_count": null,
   "id": "2dda0d11-1cd7-4edf-b821-7289e82a04ce",
   "metadata": {},
   "outputs": [],
   "source": [
    "2 + 2"
   ]
  },
  {
   "cell_type": "markdown",
   "id": "8af1b279-5744-413a-bbc6-2b506aabe21b",
   "metadata": {},
   "source": [
    "Les cellules contenant du code informatique peuvent être *exécutée*.\n",
    "\n",
    "Par exemple, une fois exécutée, la cellule précédente retourne le résultat `4`."
   ]
  },
  {
   "cell_type": "code",
   "execution_count": null,
   "id": "cff849fb-21aa-4035-aebd-284d054cdc54",
   "metadata": {},
   "outputs": [],
   "source": []
  }
 ],
 "metadata": {
  "kernelspec": {
   "display_name": "Python 3 (ipykernel)",
   "language": "python",
   "name": "python3"
  },
  "language_info": {
   "codemirror_mode": {
    "name": "ipython",
    "version": 3
   },
   "file_extension": ".py",
   "mimetype": "text/x-python",
   "name": "python",
   "nbconvert_exporter": "python",
   "pygments_lexer": "ipython3",
   "version": "3.9.18"
  }
 },
 "nbformat": 4,
 "nbformat_minor": 5
}
