{
 "cells": [
  {
   "cell_type": "markdown",
   "id": "8a6227dc-6f48-4d83-93bf-29cc04f21dd8",
   "metadata": {},
   "source": [
    "# Génération de musique par Intelligence Artificielle pour la pratique sportive \n",
    "\n",
    "## Partie 3: Entraînement/affinage (*\"spécialisation\"*) d'un modèle d'IA Générative\n",
    "\n",
    "Les 2 cellules ci-dessous chargent quelques modules utilitaires que nous ne détaillerons pas ici."
   ]
  },
  {
   "cell_type": "code",
   "execution_count": null,
   "id": "01a5fba3-6954-43de-b82b-093c92cb8094",
   "metadata": {
    "scrolled": true
   },
   "outputs": [],
   "source": [
    "%run utilitaires.ipynb"
   ]
  },
  {
   "cell_type": "code",
   "execution_count": null,
   "id": "35452f8c-fa1a-4284-8154-96e58c2028c0",
   "metadata": {},
   "outputs": [],
   "source": [
    "%load_ext autoreload\n",
    "%autoreload 2"
   ]
  },
  {
   "cell_type": "markdown",
   "id": "d533fdc9-71b1-473e-a1e0-84dfc2b39562",
   "metadata": {},
   "source": [
    "### Chargement des données\n",
    "\n",
    "Nous devons tout d'abord charger le jeux de données que nous avons préparé (notebook 2)."
   ]
  },
  {
   "cell_type": "code",
   "execution_count": null,
   "id": "a276eb8a-d631-4618-bb28-6f2301afe12e",
   "metadata": {},
   "outputs": [],
   "source": [
    "data_path = \"./data/music/processed/all\"\n",
    "dataset = load_from_disk(data_path)\n",
    "\n",
    "dataset"
   ]
  },
  {
   "cell_type": "markdown",
   "id": "85639dfb-a2c5-49e2-9dea-4ba51002a817",
   "metadata": {},
   "source": [
    "### Chargement du modèle MusicGen\n",
    "\n",
    "Comme dans le notebook 1 dédié au prompt engineering et au zero-shot learning, nous devons charger l'algorithme d'IA (toujours en 2 parties: le `processor` et le `model` lui-même)."
   ]
  },
  {
   "cell_type": "code",
   "execution_count": null,
   "id": "8ade38d9-9a71-46b9-8236-0cea81225e57",
   "metadata": {
    "scrolled": true
   },
   "outputs": [],
   "source": [
    "processor = AutoProcessor.from_pretrained(\n",
    "    \"facebook/musicgen-medium\",\n",
    "    cache_dir=\"./models\"\n",
    ")\n",
    "\n",
    "model = AutoModelForTextToWaveform.from_pretrained(\n",
    "    \"facebook/musicgen-medium\",\n",
    "    cache_dir=\"./models\"\n",
    ")\n",
    "\n",
    "# The following configurations are needed to avoid a bug while training:\n",
    "model.config.decoder_start_token_id = model.decoder.config.bos_token_id\n",
    "model.config.decoder.decoder_start_token_id = model.decoder.config.bos_token_id\n",
    "\n",
    "model.freeze_text_encoder()\n",
    "model.freeze_audio_encoder()\n",
    "\n",
    "torch.cuda.empty_cache()\n",
    "\n",
    "print(model)\n",
    "print(processor)"
   ]
  },
  {
   "cell_type": "markdown",
   "id": "dee68160-3dfe-4f52-8861-11ba509add36",
   "metadata": {},
   "source": [
    "### Définition d'un sous-ensemble des paramètres à ajuster\n",
    "\n",
    "Le modèle contient un grand nombre de paramètres (~2 milliards). C'est relativement petit par rapport aux modèles existants (ChatGPT, Gemini, Grok, etc...), mais c'est beaucoup pour les ressources à notre disposition. \n",
    "\n",
    "Calculer toutes les dérivées (et plus précisément les [gradients](https://fr.wikipedia.org/wiki/Gradient#:~:text=En%20physique%20et%20en%20analyse,employa%20avant%20les%20autres%20disciplines)) par rapport à tous les paramètres serait trop coûteux en calcul et mémoire.\n",
    "\n",
    "De plus, notre jeux de données est bien trop petit par rapport aux nombres de paramètres, il y a donc un risque de [surapprentissage](https://fr.wikipedia.org/wiki/Surapprentissage#:~:text=En%20statistique%2C%20le%20surapprentissage%2C%20ou,d'un%20ensemble%20de%20donn%C3%A9es.).\n",
    "\n",
    "Pour toutes ces raisons nous allons uniquement ajuster un petit nombre de paramètres."
   ]
  },
  {
   "cell_type": "code",
   "execution_count": null,
   "id": "67b3237a-eb30-4105-b341-d5d13ef896c3",
   "metadata": {},
   "outputs": [],
   "source": [
    "target_modules = (\n",
    "    [\n",
    "        \"enc_to_dec_proj\",\n",
    "        \"audio_enc_to_dec_proj\",\n",
    "        \"k_proj\",\n",
    "        \"v_proj\",\n",
    "        \"q_proj\",\n",
    "        \"out_proj\",\n",
    "        \"fc1\",\n",
    "        \"fc2\",\n",
    "        \"lm_heads.0\",\n",
    "    ]\n",
    "    + [f\"lm_heads.{str(i)}\" for i in range(len(model.decoder.lm_heads))]\n",
    "    + [f\"embed_tokens.{str(i)}\" for i in range(len(model.decoder.lm_heads))]\n",
    ")\n",
    "\n",
    "config = LoraConfig(\n",
    "    r=16,\n",
    "    lora_alpha=16,\n",
    "    target_modules=target_modules,\n",
    "    lora_dropout=0.05,\n",
    "    bias=\"none\",\n",
    ")\n",
    "# model.enable_input_require_grads()\n",
    "# model.disable_input_require_grads()\n",
    "model = get_peft_model(model, config)\n",
    "model.print_trainable_parameters()"
   ]
  },
  {
   "cell_type": "markdown",
   "id": "15bc88d8-1ba8-4503-aae7-8583ef1dae67",
   "metadata": {},
   "source": [
    "### Entraînement (fine-tuning) du modèle d'Intelligence Artificielle\n",
    "\n",
    "Nous voilà désormais prêts à affiner MusicGen avec notre nouveau jeux de données.\n",
    "\n",
    "Observez l'évolution du `Training loss`: c'est ce qui mesure la \"distance\" entre les prédictions faites par MusicGen et les musiques de notre jeux de données. Plus cette quantité diminue, plus les prédictions de MusicGen sont sensées se rapprocher des musiques fournies en entrée. Bien évidemment, la notion de distances entre deux musiques est plus complexe qu'une simple distance \"euclidienne\".\n",
    "\n",
    "Le `Training loss` va avoir tendance à diminuer au cours du temps, mais il n'est pas forcément strictement décroissant (il peut augmenter avant de diminuer, etc...)."
   ]
  },
  {
   "cell_type": "code",
   "execution_count": null,
   "id": "848417ad-d205-4d06-8e24-092cecb8dee9",
   "metadata": {
    "scrolled": true
   },
   "outputs": [],
   "source": [
    "torch.cuda.empty_cache()\n",
    "\n",
    "training_args = Seq2SeqTrainingArguments(\n",
    "      output_dir=\"./tmp/output/\",\n",
    "      num_train_epochs=5,\n",
    "      # gradient_accumulation_steps=8,\n",
    "      gradient_checkpointing=True,  # True,\n",
    "      per_device_train_batch_size=8,  # 2,\n",
    "      learning_rate=5e-5,  # 2e-4,\n",
    "      weight_decay=0.1,  # 0.1,\n",
    "      adam_beta2=0.99,  #0.99,\n",
    "      # fp16=True,\n",
    "      dataloader_num_workers=15,\n",
    "      logging_steps=1,\n",
    "      # report_to=\"none\",\n",
    "      disable_tqdm=False,\n",
    ")\n",
    "\n",
    "# model.config.decoder_start_token_id = model.decoder.config.bos_token_id\n",
    "\n",
    "\n",
    "# Initialize MusicgenTrainer\n",
    "trainer = MusicgenTrainer(  # Seq2SeqTrainer(\n",
    "    model=model,\n",
    "    args=training_args,\n",
    "    data_collator=DataCollatorMusicGenWithPadding(\n",
    "        processor=processor,\n",
    "    ),\n",
    "    train_dataset=dataset.remove_columns([\"attention_mask\", \"audio\", \"description\"]).shuffle(seed=17),\n",
    "    # processing_class=processor.__class__,\n",
    "    # tokenizer=processor,\n",
    ")\n",
    "\n",
    "train_result = trainer.train()"
   ]
  },
  {
   "cell_type": "markdown",
   "id": "d617e171-d17b-4941-8a7c-a7f7dacc7a45",
   "metadata": {},
   "source": [
    "### Sauvegarde du modèle spécialisé"
   ]
  },
  {
   "cell_type": "code",
   "execution_count": null,
   "id": "2ee5efeb-8482-465d-a5aa-3c3880a5f551",
   "metadata": {},
   "outputs": [],
   "source": [
    "save_path = \"./models/fine_tuned_musigen_all\"\n",
    "\n",
    "os.makedirs(save_path, exist_ok=True)\n",
    "shutil.rmtree(save_path)\n",
    "\n",
    "model.save_pretrained(save_path)"
   ]
  },
  {
   "cell_type": "code",
   "execution_count": null,
   "id": "a5e35566-f230-4a72-9620-c4ef0b510346",
   "metadata": {},
   "outputs": [],
   "source": []
  }
 ],
 "metadata": {
  "kernelspec": {
   "display_name": "Python 3 (ipykernel)",
   "language": "python",
   "name": "python3"
  },
  "language_info": {
   "codemirror_mode": {
    "name": "ipython",
    "version": 3
   },
   "file_extension": ".py",
   "mimetype": "text/x-python",
   "name": "python",
   "nbconvert_exporter": "python",
   "pygments_lexer": "ipython3",
   "version": "3.9.18"
  }
 },
 "nbformat": 4,
 "nbformat_minor": 5
}
